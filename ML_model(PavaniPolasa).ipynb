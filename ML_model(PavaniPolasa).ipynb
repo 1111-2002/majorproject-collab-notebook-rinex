{
  "nbformat": 4,
  "nbformat_minor": 0,
  "metadata": {
    "colab": {
      "name": "ML model(PavaniPolasa).ipynb",
      "provenance": [],
      "collapsed_sections": [],
      "authorship_tag": "ABX9TyMj/LW/Npjw1rChACYpfIj/",
      "include_colab_link": true
    },
    "kernelspec": {
      "name": "python3",
      "display_name": "Python 3"
    },
    "language_info": {
      "name": "python"
    }
  },
  "cells": [
    {
      "cell_type": "markdown",
      "metadata": {
        "id": "view-in-github",
        "colab_type": "text"
      },
      "source": [
        "<a href=\"https://colab.research.google.com/github/1111-2002/majorproject-collab-notebook-rinex/blob/main/ML_model(PavaniPolasa).ipynb\" target=\"_parent\"><img src=\"https://colab.research.google.com/assets/colab-badge.svg\" alt=\"Open In Colab\"/></a>"
      ]
    },
    {
      "cell_type": "code",
      "execution_count": 30,
      "metadata": {
        "colab": {
          "base_uri": "https://localhost:8080/",
          "height": 574
        },
        "id": "RJt9O2Y8xPcY",
        "outputId": "0b9a0f08-fa3e-4e7a-bc29-d1337fdd163b"
      },
      "outputs": [
        {
          "output_type": "execute_result",
          "data": {
            "text/plain": [
              "     Car ID         make fuel-type aspiration num-of-doors   body-style  \\\n",
              "0         1  alfa-romero       gas        std          two  convertible   \n",
              "1         2  alfa-romero       gas        std          two  convertible   \n",
              "2         3  alfa-romero       gas        std          two    hatchback   \n",
              "3         4         audi       gas        std         four        sedan   \n",
              "4         5         audi       gas        std         four        sedan   \n",
              "..      ...          ...       ...        ...          ...          ...   \n",
              "190     191        volvo       gas        std         four        sedan   \n",
              "191     192        volvo       gas      turbo         four        sedan   \n",
              "192     193        volvo       gas        std         four        sedan   \n",
              "193     194        volvo    diesel      turbo         four        sedan   \n",
              "194     195        volvo       gas      turbo         four        sedan   \n",
              "\n",
              "    drive-wheels engine-location  wheel-base  length  ...  num-of-cylinders  \\\n",
              "0            rwd           front        88.6   168.8  ...              four   \n",
              "1            rwd           front        88.6   168.8  ...              four   \n",
              "2            rwd           front        94.5   171.2  ...               six   \n",
              "3            fwd           front        99.8   176.6  ...              four   \n",
              "4            4wd           front        99.4   176.6  ...              five   \n",
              "..           ...             ...         ...     ...  ...               ...   \n",
              "190          rwd           front       109.1   188.8  ...              four   \n",
              "191          rwd           front       109.1   188.8  ...              four   \n",
              "192          rwd           front       109.1   188.8  ...               six   \n",
              "193          rwd           front       109.1   188.8  ...               six   \n",
              "194          rwd           front       109.1   188.8  ...              four   \n",
              "\n",
              "     engine-size  bore stroke  compression-ratio  horsepower  peak-rpm  \\\n",
              "0            130  3.47   2.68                9.0         111      5000   \n",
              "1            130  3.47   2.68                9.0         111      5000   \n",
              "2            152  2.68   3.47                9.0         154      5000   \n",
              "3            109  3.19   3.40               10.0         102      5500   \n",
              "4            136  3.19   3.40                8.0         115      5500   \n",
              "..           ...   ...    ...                ...         ...       ...   \n",
              "190          141  3.78   3.15                9.5         114      5400   \n",
              "191          141  3.78   3.15                8.7         160      5300   \n",
              "192          173  3.58   2.87                8.8         134      5500   \n",
              "193          145  3.01   3.40               23.0         106      4800   \n",
              "194          141  3.78   3.15                9.5         114      5400   \n",
              "\n",
              "     city-mpg  highway-mpg  price  \n",
              "0          21           27  13495  \n",
              "1          21           27  16500  \n",
              "2          19           26  16500  \n",
              "3          24           30  13950  \n",
              "4          18           22  17450  \n",
              "..        ...          ...    ...  \n",
              "190        23           28  16845  \n",
              "191        19           25  19045  \n",
              "192        18           23  21485  \n",
              "193        26           27  22470  \n",
              "194        19           25  22625  \n",
              "\n",
              "[195 rows x 23 columns]"
            ],
            "text/html": [
              "\n",
              "  <div id=\"df-5652a0c5-0518-44f0-9dc2-228ed4bbcdfe\">\n",
              "    <div class=\"colab-df-container\">\n",
              "      <div>\n",
              "<style scoped>\n",
              "    .dataframe tbody tr th:only-of-type {\n",
              "        vertical-align: middle;\n",
              "    }\n",
              "\n",
              "    .dataframe tbody tr th {\n",
              "        vertical-align: top;\n",
              "    }\n",
              "\n",
              "    .dataframe thead th {\n",
              "        text-align: right;\n",
              "    }\n",
              "</style>\n",
              "<table border=\"1\" class=\"dataframe\">\n",
              "  <thead>\n",
              "    <tr style=\"text-align: right;\">\n",
              "      <th></th>\n",
              "      <th>Car ID</th>\n",
              "      <th>make</th>\n",
              "      <th>fuel-type</th>\n",
              "      <th>aspiration</th>\n",
              "      <th>num-of-doors</th>\n",
              "      <th>body-style</th>\n",
              "      <th>drive-wheels</th>\n",
              "      <th>engine-location</th>\n",
              "      <th>wheel-base</th>\n",
              "      <th>length</th>\n",
              "      <th>...</th>\n",
              "      <th>num-of-cylinders</th>\n",
              "      <th>engine-size</th>\n",
              "      <th>bore</th>\n",
              "      <th>stroke</th>\n",
              "      <th>compression-ratio</th>\n",
              "      <th>horsepower</th>\n",
              "      <th>peak-rpm</th>\n",
              "      <th>city-mpg</th>\n",
              "      <th>highway-mpg</th>\n",
              "      <th>price</th>\n",
              "    </tr>\n",
              "  </thead>\n",
              "  <tbody>\n",
              "    <tr>\n",
              "      <th>0</th>\n",
              "      <td>1</td>\n",
              "      <td>alfa-romero</td>\n",
              "      <td>gas</td>\n",
              "      <td>std</td>\n",
              "      <td>two</td>\n",
              "      <td>convertible</td>\n",
              "      <td>rwd</td>\n",
              "      <td>front</td>\n",
              "      <td>88.6</td>\n",
              "      <td>168.8</td>\n",
              "      <td>...</td>\n",
              "      <td>four</td>\n",
              "      <td>130</td>\n",
              "      <td>3.47</td>\n",
              "      <td>2.68</td>\n",
              "      <td>9.0</td>\n",
              "      <td>111</td>\n",
              "      <td>5000</td>\n",
              "      <td>21</td>\n",
              "      <td>27</td>\n",
              "      <td>13495</td>\n",
              "    </tr>\n",
              "    <tr>\n",
              "      <th>1</th>\n",
              "      <td>2</td>\n",
              "      <td>alfa-romero</td>\n",
              "      <td>gas</td>\n",
              "      <td>std</td>\n",
              "      <td>two</td>\n",
              "      <td>convertible</td>\n",
              "      <td>rwd</td>\n",
              "      <td>front</td>\n",
              "      <td>88.6</td>\n",
              "      <td>168.8</td>\n",
              "      <td>...</td>\n",
              "      <td>four</td>\n",
              "      <td>130</td>\n",
              "      <td>3.47</td>\n",
              "      <td>2.68</td>\n",
              "      <td>9.0</td>\n",
              "      <td>111</td>\n",
              "      <td>5000</td>\n",
              "      <td>21</td>\n",
              "      <td>27</td>\n",
              "      <td>16500</td>\n",
              "    </tr>\n",
              "    <tr>\n",
              "      <th>2</th>\n",
              "      <td>3</td>\n",
              "      <td>alfa-romero</td>\n",
              "      <td>gas</td>\n",
              "      <td>std</td>\n",
              "      <td>two</td>\n",
              "      <td>hatchback</td>\n",
              "      <td>rwd</td>\n",
              "      <td>front</td>\n",
              "      <td>94.5</td>\n",
              "      <td>171.2</td>\n",
              "      <td>...</td>\n",
              "      <td>six</td>\n",
              "      <td>152</td>\n",
              "      <td>2.68</td>\n",
              "      <td>3.47</td>\n",
              "      <td>9.0</td>\n",
              "      <td>154</td>\n",
              "      <td>5000</td>\n",
              "      <td>19</td>\n",
              "      <td>26</td>\n",
              "      <td>16500</td>\n",
              "    </tr>\n",
              "    <tr>\n",
              "      <th>3</th>\n",
              "      <td>4</td>\n",
              "      <td>audi</td>\n",
              "      <td>gas</td>\n",
              "      <td>std</td>\n",
              "      <td>four</td>\n",
              "      <td>sedan</td>\n",
              "      <td>fwd</td>\n",
              "      <td>front</td>\n",
              "      <td>99.8</td>\n",
              "      <td>176.6</td>\n",
              "      <td>...</td>\n",
              "      <td>four</td>\n",
              "      <td>109</td>\n",
              "      <td>3.19</td>\n",
              "      <td>3.40</td>\n",
              "      <td>10.0</td>\n",
              "      <td>102</td>\n",
              "      <td>5500</td>\n",
              "      <td>24</td>\n",
              "      <td>30</td>\n",
              "      <td>13950</td>\n",
              "    </tr>\n",
              "    <tr>\n",
              "      <th>4</th>\n",
              "      <td>5</td>\n",
              "      <td>audi</td>\n",
              "      <td>gas</td>\n",
              "      <td>std</td>\n",
              "      <td>four</td>\n",
              "      <td>sedan</td>\n",
              "      <td>4wd</td>\n",
              "      <td>front</td>\n",
              "      <td>99.4</td>\n",
              "      <td>176.6</td>\n",
              "      <td>...</td>\n",
              "      <td>five</td>\n",
              "      <td>136</td>\n",
              "      <td>3.19</td>\n",
              "      <td>3.40</td>\n",
              "      <td>8.0</td>\n",
              "      <td>115</td>\n",
              "      <td>5500</td>\n",
              "      <td>18</td>\n",
              "      <td>22</td>\n",
              "      <td>17450</td>\n",
              "    </tr>\n",
              "    <tr>\n",
              "      <th>...</th>\n",
              "      <td>...</td>\n",
              "      <td>...</td>\n",
              "      <td>...</td>\n",
              "      <td>...</td>\n",
              "      <td>...</td>\n",
              "      <td>...</td>\n",
              "      <td>...</td>\n",
              "      <td>...</td>\n",
              "      <td>...</td>\n",
              "      <td>...</td>\n",
              "      <td>...</td>\n",
              "      <td>...</td>\n",
              "      <td>...</td>\n",
              "      <td>...</td>\n",
              "      <td>...</td>\n",
              "      <td>...</td>\n",
              "      <td>...</td>\n",
              "      <td>...</td>\n",
              "      <td>...</td>\n",
              "      <td>...</td>\n",
              "      <td>...</td>\n",
              "    </tr>\n",
              "    <tr>\n",
              "      <th>190</th>\n",
              "      <td>191</td>\n",
              "      <td>volvo</td>\n",
              "      <td>gas</td>\n",
              "      <td>std</td>\n",
              "      <td>four</td>\n",
              "      <td>sedan</td>\n",
              "      <td>rwd</td>\n",
              "      <td>front</td>\n",
              "      <td>109.1</td>\n",
              "      <td>188.8</td>\n",
              "      <td>...</td>\n",
              "      <td>four</td>\n",
              "      <td>141</td>\n",
              "      <td>3.78</td>\n",
              "      <td>3.15</td>\n",
              "      <td>9.5</td>\n",
              "      <td>114</td>\n",
              "      <td>5400</td>\n",
              "      <td>23</td>\n",
              "      <td>28</td>\n",
              "      <td>16845</td>\n",
              "    </tr>\n",
              "    <tr>\n",
              "      <th>191</th>\n",
              "      <td>192</td>\n",
              "      <td>volvo</td>\n",
              "      <td>gas</td>\n",
              "      <td>turbo</td>\n",
              "      <td>four</td>\n",
              "      <td>sedan</td>\n",
              "      <td>rwd</td>\n",
              "      <td>front</td>\n",
              "      <td>109.1</td>\n",
              "      <td>188.8</td>\n",
              "      <td>...</td>\n",
              "      <td>four</td>\n",
              "      <td>141</td>\n",
              "      <td>3.78</td>\n",
              "      <td>3.15</td>\n",
              "      <td>8.7</td>\n",
              "      <td>160</td>\n",
              "      <td>5300</td>\n",
              "      <td>19</td>\n",
              "      <td>25</td>\n",
              "      <td>19045</td>\n",
              "    </tr>\n",
              "    <tr>\n",
              "      <th>192</th>\n",
              "      <td>193</td>\n",
              "      <td>volvo</td>\n",
              "      <td>gas</td>\n",
              "      <td>std</td>\n",
              "      <td>four</td>\n",
              "      <td>sedan</td>\n",
              "      <td>rwd</td>\n",
              "      <td>front</td>\n",
              "      <td>109.1</td>\n",
              "      <td>188.8</td>\n",
              "      <td>...</td>\n",
              "      <td>six</td>\n",
              "      <td>173</td>\n",
              "      <td>3.58</td>\n",
              "      <td>2.87</td>\n",
              "      <td>8.8</td>\n",
              "      <td>134</td>\n",
              "      <td>5500</td>\n",
              "      <td>18</td>\n",
              "      <td>23</td>\n",
              "      <td>21485</td>\n",
              "    </tr>\n",
              "    <tr>\n",
              "      <th>193</th>\n",
              "      <td>194</td>\n",
              "      <td>volvo</td>\n",
              "      <td>diesel</td>\n",
              "      <td>turbo</td>\n",
              "      <td>four</td>\n",
              "      <td>sedan</td>\n",
              "      <td>rwd</td>\n",
              "      <td>front</td>\n",
              "      <td>109.1</td>\n",
              "      <td>188.8</td>\n",
              "      <td>...</td>\n",
              "      <td>six</td>\n",
              "      <td>145</td>\n",
              "      <td>3.01</td>\n",
              "      <td>3.40</td>\n",
              "      <td>23.0</td>\n",
              "      <td>106</td>\n",
              "      <td>4800</td>\n",
              "      <td>26</td>\n",
              "      <td>27</td>\n",
              "      <td>22470</td>\n",
              "    </tr>\n",
              "    <tr>\n",
              "      <th>194</th>\n",
              "      <td>195</td>\n",
              "      <td>volvo</td>\n",
              "      <td>gas</td>\n",
              "      <td>turbo</td>\n",
              "      <td>four</td>\n",
              "      <td>sedan</td>\n",
              "      <td>rwd</td>\n",
              "      <td>front</td>\n",
              "      <td>109.1</td>\n",
              "      <td>188.8</td>\n",
              "      <td>...</td>\n",
              "      <td>four</td>\n",
              "      <td>141</td>\n",
              "      <td>3.78</td>\n",
              "      <td>3.15</td>\n",
              "      <td>9.5</td>\n",
              "      <td>114</td>\n",
              "      <td>5400</td>\n",
              "      <td>19</td>\n",
              "      <td>25</td>\n",
              "      <td>22625</td>\n",
              "    </tr>\n",
              "  </tbody>\n",
              "</table>\n",
              "<p>195 rows × 23 columns</p>\n",
              "</div>\n",
              "      <button class=\"colab-df-convert\" onclick=\"convertToInteractive('df-5652a0c5-0518-44f0-9dc2-228ed4bbcdfe')\"\n",
              "              title=\"Convert this dataframe to an interactive table.\"\n",
              "              style=\"display:none;\">\n",
              "        \n",
              "  <svg xmlns=\"http://www.w3.org/2000/svg\" height=\"24px\"viewBox=\"0 0 24 24\"\n",
              "       width=\"24px\">\n",
              "    <path d=\"M0 0h24v24H0V0z\" fill=\"none\"/>\n",
              "    <path d=\"M18.56 5.44l.94 2.06.94-2.06 2.06-.94-2.06-.94-.94-2.06-.94 2.06-2.06.94zm-11 1L8.5 8.5l.94-2.06 2.06-.94-2.06-.94L8.5 2.5l-.94 2.06-2.06.94zm10 10l.94 2.06.94-2.06 2.06-.94-2.06-.94-.94-2.06-.94 2.06-2.06.94z\"/><path d=\"M17.41 7.96l-1.37-1.37c-.4-.4-.92-.59-1.43-.59-.52 0-1.04.2-1.43.59L10.3 9.45l-7.72 7.72c-.78.78-.78 2.05 0 2.83L4 21.41c.39.39.9.59 1.41.59.51 0 1.02-.2 1.41-.59l7.78-7.78 2.81-2.81c.8-.78.8-2.07 0-2.86zM5.41 20L4 18.59l7.72-7.72 1.47 1.35L5.41 20z\"/>\n",
              "  </svg>\n",
              "      </button>\n",
              "      \n",
              "  <style>\n",
              "    .colab-df-container {\n",
              "      display:flex;\n",
              "      flex-wrap:wrap;\n",
              "      gap: 12px;\n",
              "    }\n",
              "\n",
              "    .colab-df-convert {\n",
              "      background-color: #E8F0FE;\n",
              "      border: none;\n",
              "      border-radius: 50%;\n",
              "      cursor: pointer;\n",
              "      display: none;\n",
              "      fill: #1967D2;\n",
              "      height: 32px;\n",
              "      padding: 0 0 0 0;\n",
              "      width: 32px;\n",
              "    }\n",
              "\n",
              "    .colab-df-convert:hover {\n",
              "      background-color: #E2EBFA;\n",
              "      box-shadow: 0px 1px 2px rgba(60, 64, 67, 0.3), 0px 1px 3px 1px rgba(60, 64, 67, 0.15);\n",
              "      fill: #174EA6;\n",
              "    }\n",
              "\n",
              "    [theme=dark] .colab-df-convert {\n",
              "      background-color: #3B4455;\n",
              "      fill: #D2E3FC;\n",
              "    }\n",
              "\n",
              "    [theme=dark] .colab-df-convert:hover {\n",
              "      background-color: #434B5C;\n",
              "      box-shadow: 0px 1px 3px 1px rgba(0, 0, 0, 0.15);\n",
              "      filter: drop-shadow(0px 1px 2px rgba(0, 0, 0, 0.3));\n",
              "      fill: #FFFFFF;\n",
              "    }\n",
              "  </style>\n",
              "\n",
              "      <script>\n",
              "        const buttonEl =\n",
              "          document.querySelector('#df-5652a0c5-0518-44f0-9dc2-228ed4bbcdfe button.colab-df-convert');\n",
              "        buttonEl.style.display =\n",
              "          google.colab.kernel.accessAllowed ? 'block' : 'none';\n",
              "\n",
              "        async function convertToInteractive(key) {\n",
              "          const element = document.querySelector('#df-5652a0c5-0518-44f0-9dc2-228ed4bbcdfe');\n",
              "          const dataTable =\n",
              "            await google.colab.kernel.invokeFunction('convertToInteractive',\n",
              "                                                     [key], {});\n",
              "          if (!dataTable) return;\n",
              "\n",
              "          const docLinkHtml = 'Like what you see? Visit the ' +\n",
              "            '<a target=\"_blank\" href=https://colab.research.google.com/notebooks/data_table.ipynb>data table notebook</a>'\n",
              "            + ' to learn more about interactive tables.';\n",
              "          element.innerHTML = '';\n",
              "          dataTable['output_type'] = 'display_data';\n",
              "          await google.colab.output.renderOutput(dataTable, element);\n",
              "          const docLink = document.createElement('div');\n",
              "          docLink.innerHTML = docLinkHtml;\n",
              "          element.appendChild(docLink);\n",
              "        }\n",
              "      </script>\n",
              "    </div>\n",
              "  </div>\n",
              "  "
            ]
          },
          "metadata": {},
          "execution_count": 30
        }
      ],
      "source": [
        "import pandas as pd\n",
        "df=pd.read_csv('https://raw.githubusercontent.com/diazoniclabs/Machine-Learning-using-sklearn/master/Datasets/Cars.csv')\n",
        "df"
      ]
    },
    {
      "cell_type": "code",
      "source": [
        "df.info()"
      ],
      "metadata": {
        "colab": {
          "base_uri": "https://localhost:8080/"
        },
        "id": "urhs9icaxqZk",
        "outputId": "214d754a-f3f7-4fb0-9297-510e7b74d99f"
      },
      "execution_count": 31,
      "outputs": [
        {
          "output_type": "stream",
          "name": "stdout",
          "text": [
            "<class 'pandas.core.frame.DataFrame'>\n",
            "RangeIndex: 195 entries, 0 to 194\n",
            "Data columns (total 23 columns):\n",
            " #   Column             Non-Null Count  Dtype  \n",
            "---  ------             --------------  -----  \n",
            " 0   Car ID             195 non-null    int64  \n",
            " 1   make               195 non-null    object \n",
            " 2   fuel-type          195 non-null    object \n",
            " 3   aspiration         195 non-null    object \n",
            " 4   num-of-doors       195 non-null    object \n",
            " 5   body-style         195 non-null    object \n",
            " 6   drive-wheels       195 non-null    object \n",
            " 7   engine-location    195 non-null    object \n",
            " 8   wheel-base         195 non-null    float64\n",
            " 9   length             195 non-null    float64\n",
            " 10  width              195 non-null    float64\n",
            " 11  height             195 non-null    float64\n",
            " 12  curb-weight        195 non-null    int64  \n",
            " 13  num-of-cylinders   195 non-null    object \n",
            " 14  engine-size        195 non-null    int64  \n",
            " 15  bore               195 non-null    float64\n",
            " 16  stroke             195 non-null    float64\n",
            " 17  compression-ratio  195 non-null    float64\n",
            " 18  horsepower         195 non-null    int64  \n",
            " 19  peak-rpm           195 non-null    int64  \n",
            " 20  city-mpg           195 non-null    int64  \n",
            " 21  highway-mpg        195 non-null    int64  \n",
            " 22  price              195 non-null    int64  \n",
            "dtypes: float64(7), int64(8), object(8)\n",
            "memory usage: 35.2+ KB\n"
          ]
        }
      ]
    },
    {
      "cell_type": "code",
      "source": [
        "df['make'].value_counts()"
      ],
      "metadata": {
        "colab": {
          "base_uri": "https://localhost:8080/"
        },
        "id": "2JhSRscLxqt6",
        "outputId": "749ec853-a146-453f-ed44-cd76a8c9c8c5"
      },
      "execution_count": 32,
      "outputs": [
        {
          "output_type": "execute_result",
          "data": {
            "text/plain": [
              "toyota           32\n",
              "nissan           18\n",
              "honda            13\n",
              "mazda            13\n",
              "mitsubishi       13\n",
              "volkswagen       12\n",
              "subaru           12\n",
              "volvo            11\n",
              "peugot           11\n",
              "dodge             9\n",
              "bmw               8\n",
              "mercedes-benz     8\n",
              "plymouth          7\n",
              "saab              6\n",
              "audi              6\n",
              "porsche           4\n",
              "alfa-romero       3\n",
              "jaguar            3\n",
              "chevrolet         3\n",
              "isuzu             2\n",
              "mercury           1\n",
              "Name: make, dtype: int64"
            ]
          },
          "metadata": {},
          "execution_count": 32
        }
      ]
    },
    {
      "cell_type": "code",
      "source": [
        "df['make'].value_counts().plot(kind='bar')"
      ],
      "metadata": {
        "colab": {
          "base_uri": "https://localhost:8080/",
          "height": 349
        },
        "id": "GgiIO4Ikxw0K",
        "outputId": "5ca05009-49a5-4f85-af2a-60ef56f14088"
      },
      "execution_count": 33,
      "outputs": [
        {
          "output_type": "execute_result",
          "data": {
            "text/plain": [
              "<matplotlib.axes._subplots.AxesSubplot at 0x7fa5b5238250>"
            ]
          },
          "metadata": {},
          "execution_count": 33
        },
        {
          "output_type": "display_data",
          "data": {
            "text/plain": [
              "<Figure size 432x288 with 1 Axes>"
            ],
            "image/png": "[encoded data removed]"
          },
          "metadata": {
            "needs_background": "light"
          }
        }
      ]
    },
    {
      "cell_type": "code",
      "source": [
        "x=df.iloc[:,1].values\n",
        "y=df.iloc[:,5].values"
      ],
      "metadata": {
        "id": "OMVYEKx_xwwr"
      },
      "execution_count": 34,
      "outputs": []
    },
    {
      "cell_type": "code",
      "source": [
        "from sklearn.model_selection import train_test_split\n",
        "x_train,x_test,y_train,y_test=train_test_split(x,y,random_state=0)"
      ],
      "metadata": {
        "id": "LyfFlpcVxwuR"
      },
      "execution_count": 35,
      "outputs": []
    },
    {
      "cell_type": "code",
      "source": [
        "from sklearn.feature_extraction.text import TfidfVectorizer\n",
        "vect=TfidfVectorizer()\n",
        "x_train_v=vect.fit_transform(x_train)\n",
        "x_test_v=vect.transform(x_test)"
      ],
      "metadata": {
        "id": "nielVFBBxwrj"
      },
      "execution_count": 36,
      "outputs": []
    },
    {
      "cell_type": "code",
      "source": [
        "from sklearn.svm import SVC\n",
        "model=SVC()"
      ],
      "metadata": {
        "id": "3UVv0i5AxwoS"
      },
      "execution_count": 37,
      "outputs": []
    },
    {
      "cell_type": "code",
      "source": [
        "model.fit(x_train_v,y_train)"
      ],
      "metadata": {
        "colab": {
          "base_uri": "https://localhost:8080/"
        },
        "id": "J6pL7pgxxwlj",
        "outputId": "51b48d2d-8fb1-43d5-cd7e-6cee58893366"
      },
      "execution_count": 38,
      "outputs": [
        {
          "output_type": "execute_result",
          "data": {
            "text/plain": [
              "SVC()"
            ]
          },
          "metadata": {},
          "execution_count": 38
        }
      ]
    },
    {
      "cell_type": "code",
      "source": [
        "y_pred=model.predict(x_test_v)\n",
        "y_pred"
      ],
      "metadata": {
        "colab": {
          "base_uri": "https://localhost:8080/"
        },
        "id": "VP1UZIb2xwi9",
        "outputId": "588c437f-c7be-44d8-a9cb-c923f174980c"
      },
      "execution_count": 39,
      "outputs": [
        {
          "output_type": "execute_result",
          "data": {
            "text/plain": [
              "array(['sedan', 'sedan', 'sedan', 'hatchback', 'hatchback', 'sedan',\n",
              "       'hatchback', 'sedan', 'hatchback', 'sedan', 'sedan', 'sedan',\n",
              "       'sedan', 'hatchback', 'hatchback', 'sedan', 'sedan', 'hardtop',\n",
              "       'sedan', 'hatchback', 'hatchback', 'sedan', 'sedan', 'sedan',\n",
              "       'hardtop', 'hatchback', 'sedan', 'hatchback', 'sedan', 'sedan',\n",
              "       'hatchback', 'hatchback', 'hardtop', 'sedan', 'sedan', 'hatchback',\n",
              "       'sedan', 'sedan', 'hatchback', 'hatchback', 'sedan', 'hatchback',\n",
              "       'hatchback', 'sedan', 'hardtop', 'sedan', 'sedan', 'sedan',\n",
              "       'hardtop'], dtype=object)"
            ]
          },
          "metadata": {},
          "execution_count": 39
        }
      ]
    },
    {
      "cell_type": "code",
      "source": [
        "y_test"
      ],
      "metadata": {
        "colab": {
          "base_uri": "https://localhost:8080/"
        },
        "id": "a_ON6mp3xwf6",
        "outputId": "fd201616-fe6b-4d48-e1a4-98cd13d7ef60"
      },
      "execution_count": 40,
      "outputs": [
        {
          "output_type": "execute_result",
          "data": {
            "text/plain": [
              "array(['sedan', 'sedan', 'hatchback', 'hatchback', 'wagon', 'sedan',\n",
              "       'sedan', 'hatchback', 'hatchback', 'hatchback', 'wagon', 'sedan',\n",
              "       'sedan', 'hatchback', 'sedan', 'sedan', 'sedan', 'sedan', 'sedan',\n",
              "       'hatchback', 'sedan', 'sedan', 'wagon', 'sedan', 'sedan', 'sedan',\n",
              "       'sedan', 'sedan', 'sedan', 'sedan', 'hatchback', 'sedan', 'sedan',\n",
              "       'hatchback', 'sedan', 'sedan', 'sedan', 'wagon', 'hardtop',\n",
              "       'sedan', 'wagon', 'wagon', 'hatchback', 'sedan', 'wagon',\n",
              "       'hatchback', 'hatchback', 'sedan', 'hatchback'], dtype=object)"
            ]
          },
          "metadata": {},
          "execution_count": 40
        }
      ]
    },
    {
      "cell_type": "code",
      "source": [
        "from sklearn.metrics import accuracy_score\n",
        "accuracy_score(y_pred,y_test)*100"
      ],
      "metadata": {
        "colab": {
          "base_uri": "https://localhost:8080/"
        },
        "id": "wB8hYTuExwco",
        "outputId": "cb9d1e8b-7f4c-4a49-d2ed-aca72f150eaf"
      },
      "execution_count": 41,
      "outputs": [
        {
          "output_type": "execute_result",
          "data": {
            "text/plain": [
              "46.93877551020408"
            ]
          },
          "metadata": {},
          "execution_count": 41
        }
      ]
    },
    {
      "cell_type": "code",
      "source": [
        "a=df['make'][10]\n",
        "a"
      ],
      "metadata": {
        "colab": {
          "base_uri": "https://localhost:8080/",
          "height": 35
        },
        "id": "vtvPIDjuxwZX",
        "outputId": "b0bc2dd4-2c31-4d5f-d7c2-7016f81e373d"
      },
      "execution_count": 42,
      "outputs": [
        {
          "output_type": "execute_result",
          "data": {
            "text/plain": [
              "'bmw'"
            ],
            "application/vnd.google.colaboratory.intrinsic+json": {
              "type": "string"
            }
          },
          "metadata": {},
          "execution_count": 42
        }
      ]
    },
    {
      "cell_type": "code",
      "source": [
        "a=vect.transform([a])\n",
        "model.predict(a)"
      ],
      "metadata": {
        "colab": {
          "base_uri": "https://localhost:8080/"
        },
        "id": "2c3TrxHgxwUE",
        "outputId": "7a384bfa-bbc3-47d9-ab4d-e3cbeb347326"
      },
      "execution_count": 43,
      "outputs": [
        {
          "output_type": "execute_result",
          "data": {
            "text/plain": [
              "array(['sedan'], dtype=object)"
            ]
          },
          "metadata": {},
          "execution_count": 43
        }
      ]
    },
    {
      "cell_type": "code",
      "source": [
        "b=df['make'][2]\n",
        "b"
      ],
      "metadata": {
        "colab": {
          "base_uri": "https://localhost:8080/",
          "height": 35
        },
        "id": "ty5F918AxwQk",
        "outputId": "3af8d866-26e3-4475-c6ad-16d9128b09f7"
      },
      "execution_count": 44,
      "outputs": [
        {
          "output_type": "execute_result",
          "data": {
            "text/plain": [
              "'alfa-romero'"
            ],
            "application/vnd.google.colaboratory.intrinsic+json": {
              "type": "string"
            }
          },
          "metadata": {},
          "execution_count": 44
        }
      ]
    },
    {
      "cell_type": "code",
      "source": [
        "b=vect.transform([b])\n",
        "model.predict(b)"
      ],
      "metadata": {
        "colab": {
          "base_uri": "https://localhost:8080/"
        },
        "id": "HmSxP35kxwM6",
        "outputId": "5490ea10-afea-40ec-b52a-36837a1fa341"
      },
      "execution_count": 45,
      "outputs": [
        {
          "output_type": "execute_result",
          "data": {
            "text/plain": [
              "array(['convertible'], dtype=object)"
            ]
          },
          "metadata": {},
          "execution_count": 45
        }
      ]
    },
    {
      "cell_type": "code",
      "source": [
        "c=\"alfa-romero\"\n",
        "c"
      ],
      "metadata": {
        "colab": {
          "base_uri": "https://localhost:8080/",
          "height": 35
        },
        "id": "KmRXGzUuxwKp",
        "outputId": "4464c7d0-50ba-41a5-8753-cd15cc97696c"
      },
      "execution_count": 46,
      "outputs": [
        {
          "output_type": "execute_result",
          "data": {
            "text/plain": [
              "'alfa-romero'"
            ],
            "application/vnd.google.colaboratory.intrinsic+json": {
              "type": "string"
            }
          },
          "metadata": {},
          "execution_count": 46
        }
      ]
    },
    {
      "cell_type": "code",
      "source": [
        "c=vect.transform([c])\n",
        "model.predict(c)"
      ],
      "metadata": {
        "colab": {
          "base_uri": "https://localhost:8080/"
        },
        "id": "IX21ScUaxwHX",
        "outputId": "d2788b41-1e23-4c34-b59f-d592332626a4"
      },
      "execution_count": 47,
      "outputs": [
        {
          "output_type": "execute_result",
          "data": {
            "text/plain": [
              "array(['convertible'], dtype=object)"
            ]
          },
          "metadata": {},
          "execution_count": 47
        }
      ]
    },
    {
      "cell_type": "code",
      "source": [
        "#1.Gather data and divide into i/p and o/p\n",
        "#2.Apply train_test_split\n",
        "#3.Apply Tfidf vectorizer\n",
        "#4.Apply SVC\n",
        "#5.Predicted the output"
      ],
      "metadata": {
        "id": "Yzf4bbnlxwEp"
      },
      "execution_count": 22,
      "outputs": []
    },
    {
      "cell_type": "code",
      "source": [
        "#If ever, I have to deploy my model,I will have to perform pipelining\n",
        "#Pipelining - Combining of 2 or more modules\n",
        "#So here we combine/pipeline Tfidf vectorizer and SVc "
      ],
      "metadata": {
        "id": "1jadqNpExwBm"
      },
      "execution_count": 23,
      "outputs": []
    },
    {
      "cell_type": "code",
      "source": [
        "from sklearn.pipeline import make_pipeline\n",
        "text_model = make_pipeline(TfidfVectorizer(),SVC())\n",
        "text_model.fit(x_train,y_train)"
      ],
      "metadata": {
        "colab": {
          "base_uri": "https://localhost:8080/"
        },
        "id": "g7NCbAH2xv7Y",
        "outputId": "054ea5a0-a32e-4a1e-c666-6bc1f2696294"
      },
      "execution_count": 49,
      "outputs": [
        {
          "output_type": "execute_result",
          "data": {
            "text/plain": [
              "Pipeline(steps=[('tfidfvectorizer', TfidfVectorizer()), ('svc', SVC())])"
            ]
          },
          "metadata": {},
          "execution_count": 49
        }
      ]
    },
    {
      "cell_type": "code",
      "source": [
        "y_pred1=text_model.predict(x_test)\n",
        "y_pred1"
      ],
      "metadata": {
        "colab": {
          "base_uri": "https://localhost:8080/"
        },
        "id": "w4MamRFb1vXf",
        "outputId": "394ac436-ac1d-41a7-f783-620f29c55a17"
      },
      "execution_count": 50,
      "outputs": [
        {
          "output_type": "execute_result",
          "data": {
            "text/plain": [
              "array(['sedan', 'sedan', 'sedan', 'hatchback', 'hatchback', 'sedan',\n",
              "       'hatchback', 'sedan', 'hatchback', 'sedan', 'sedan', 'sedan',\n",
              "       'sedan', 'hatchback', 'hatchback', 'sedan', 'sedan', 'hardtop',\n",
              "       'sedan', 'hatchback', 'hatchback', 'sedan', 'sedan', 'sedan',\n",
              "       'hardtop', 'hatchback', 'sedan', 'hatchback', 'sedan', 'sedan',\n",
              "       'hatchback', 'hatchback', 'hardtop', 'sedan', 'sedan', 'hatchback',\n",
              "       'sedan', 'sedan', 'hatchback', 'hatchback', 'sedan', 'hatchback',\n",
              "       'hatchback', 'sedan', 'hardtop', 'sedan', 'sedan', 'sedan',\n",
              "       'hardtop'], dtype=object)"
            ]
          },
          "metadata": {},
          "execution_count": 50
        }
      ]
    },
    {
      "cell_type": "code",
      "source": [
        "y_test"
      ],
      "metadata": {
        "colab": {
          "base_uri": "https://localhost:8080/"
        },
        "id": "NYiC-5Gh1vT7",
        "outputId": "34030a81-b8e8-4e4f-f47a-2bfd00a57736"
      },
      "execution_count": 51,
      "outputs": [
        {
          "output_type": "execute_result",
          "data": {
            "text/plain": [
              "array(['sedan', 'sedan', 'hatchback', 'hatchback', 'wagon', 'sedan',\n",
              "       'sedan', 'hatchback', 'hatchback', 'hatchback', 'wagon', 'sedan',\n",
              "       'sedan', 'hatchback', 'sedan', 'sedan', 'sedan', 'sedan', 'sedan',\n",
              "       'hatchback', 'sedan', 'sedan', 'wagon', 'sedan', 'sedan', 'sedan',\n",
              "       'sedan', 'sedan', 'sedan', 'sedan', 'hatchback', 'sedan', 'sedan',\n",
              "       'hatchback', 'sedan', 'sedan', 'sedan', 'wagon', 'hardtop',\n",
              "       'sedan', 'wagon', 'wagon', 'hatchback', 'sedan', 'wagon',\n",
              "       'hatchback', 'hatchback', 'sedan', 'hatchback'], dtype=object)"
            ]
          },
          "metadata": {},
          "execution_count": 51
        }
      ]
    },
    {
      "cell_type": "code",
      "source": [
        "accuracy_score(y_pred1,y_test)*100"
      ],
      "metadata": {
        "colab": {
          "base_uri": "https://localhost:8080/"
        },
        "id": "eHV1ql0Z1vRP",
        "outputId": "e016a079-14b1-492a-f387-b63afc6bd396"
      },
      "execution_count": 52,
      "outputs": [
        {
          "output_type": "execute_result",
          "data": {
            "text/plain": [
              "46.93877551020408"
            ]
          },
          "metadata": {},
          "execution_count": 52
        }
      ]
    },
    {
      "cell_type": "code",
      "source": [
        "a1=df['make'][194]\n",
        "a1"
      ],
      "metadata": {
        "colab": {
          "base_uri": "https://localhost:8080/",
          "height": 35
        },
        "id": "wdVn0qGi1vOY",
        "outputId": "0ab8aeb5-9f40-4a67-8582-e68ede2de974"
      },
      "execution_count": 53,
      "outputs": [
        {
          "output_type": "execute_result",
          "data": {
            "text/plain": [
              "'volvo'"
            ],
            "application/vnd.google.colaboratory.intrinsic+json": {
              "type": "string"
            }
          },
          "metadata": {},
          "execution_count": 53
        }
      ]
    },
    {
      "cell_type": "code",
      "source": [
        "text_model.predict([a1])"
      ],
      "metadata": {
        "colab": {
          "base_uri": "https://localhost:8080/"
        },
        "id": "bEpuqq8e1vLc",
        "outputId": "e167f865-2c1d-444d-859e-97504f43b663"
      },
      "execution_count": 54,
      "outputs": [
        {
          "output_type": "execute_result",
          "data": {
            "text/plain": [
              "array(['sedan'], dtype=object)"
            ]
          },
          "metadata": {},
          "execution_count": 54
        }
      ]
    },
    {
      "cell_type": "code",
      "source": [
        "text_model.predict(['alfa-romero'])"
      ],
      "metadata": {
        "colab": {
          "base_uri": "https://localhost:8080/"
        },
        "id": "oQK8nJYm1vIr",
        "outputId": "4073a701-75bd-4fbf-8aa0-9271c4914fb7"
      },
      "execution_count": 55,
      "outputs": [
        {
          "output_type": "execute_result",
          "data": {
            "text/plain": [
              "array(['convertible'], dtype=object)"
            ]
          },
          "metadata": {},
          "execution_count": 55
        }
      ]
    },
    {
      "cell_type": "code",
      "source": [
        "#joblib has 2 types - 1.Dump and 2.Load\n",
        "import joblib\n",
        "joblib.dump(text_model,'Cars.csv')\n",
        "#we are creating a new file called spam-ham,and we are dumping the pipelined model inside it"
      ],
      "metadata": {
        "colab": {
          "base_uri": "https://localhost:8080/"
        },
        "id": "5lhz78uH1vFy",
        "outputId": "a11c2d8b-e5b0-4aa0-c183-6ec81f91a2ac"
      },
      "execution_count": 58,
      "outputs": [
        {
          "output_type": "execute_result",
          "data": {
            "text/plain": [
              "['Cars.csv']"
            ]
          },
          "metadata": {},
          "execution_count": 58
        }
      ]
    },
    {
      "cell_type": "code",
      "source": [
        "!pip install streamlit --quiet "
      ],
      "metadata": {
        "id": "jvdxIOJI1vCt"
      },
      "execution_count": 61,
      "outputs": []
    },
    {
      "cell_type": "code",
      "source": [
        "%%writefile app.py\n",
        "#%%writefile app.py is a magic command which creates a file named app.py\n",
        "import streamlit as st\n",
        "import joblib\n",
        "model = joblib.load('Cars.csv')\n",
        "st.title('Car body-style')# creates a title with name spam-ham classifier\n",
        "ip = st.text_input('Enter the Message')#creates a text box\n",
        "op = model.predict([ip])\n",
        "if st.button('Predict category'):\n",
        "  st.title(op[0])#st.button will create a button with name predict\n",
        "  #st.title(op[0]) - the output will be displayed as a title"
      ],
      "metadata": {
        "colab": {
          "base_uri": "https://localhost:8080/"
        },
        "id": "3E0BOwjv1u_-",
        "outputId": "10bc7f9b-04c1-4d01-c143-7722b4c006b1"
      },
      "execution_count": 62,
      "outputs": [
        {
          "output_type": "stream",
          "name": "stdout",
          "text": [
            "Writing app.py\n"
          ]
        }
      ]
    },
    {
      "cell_type": "code",
      "source": [
        "!streamlit run app.py & npx localtunnel --port 8501"
      ],
      "metadata": {
        "colab": {
          "base_uri": "https://localhost:8080/"
        },
        "id": "BnWMkLT71u80",
        "outputId": "7484b794-75d6-45f7-f4c3-acaee4931aed"
      },
      "execution_count": null,
      "outputs": [
        {
          "output_type": "stream",
          "name": "stdout",
          "text": [
            "2022-07-16 12:22:22.672 INFO    numexpr.utils: NumExpr defaulting to 2 threads.\n",
            "\u001b[0m\n",
            "\u001b[34m\u001b[1m  You can now view your Streamlit app in your browser.\u001b[0m\n",
            "\u001b[0m\n",
            "\u001b[34m  Network URL: \u001b[0m\u001b[1mhttp://172.28.0.2:8501\u001b[0m\n",
            "\u001b[34m  External URL: \u001b[0m\u001b[1mhttp://34.91.177.127:8501\u001b[0m\n",
            "\u001b[0m\n",
            "\u001b[K\u001b[?25hnpx: installed 22 in 3.367s\n"
          ]
        }
      ]
    },
    {
      "cell_type": "code",
      "source": [
        ""
      ],
      "metadata": {
        "id": "cjR_bggs1u54"
      },
      "execution_count": null,
      "outputs": []
    },
    {
      "cell_type": "code",
      "source": [
        ""
      ],
      "metadata": {
        "id": "a6mJ-wFC1u3E"
      },
      "execution_count": null,
      "outputs": []
    },
    {
      "cell_type": "code",
      "source": [
        ""
      ],
      "metadata": {
        "id": "tBpghnHB1uzr"
      },
      "execution_count": null,
      "outputs": []
    },
    {
      "cell_type": "code",
      "source": [
        ""
      ],
      "metadata": {
        "id": "pClFSExa1uwv"
      },
      "execution_count": null,
      "outputs": []
    }
  ]
}